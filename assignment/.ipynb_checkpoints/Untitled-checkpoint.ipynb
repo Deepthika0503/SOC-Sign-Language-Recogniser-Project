{
 "cells": [
  {
   "cell_type": "code",
   "execution_count": 34,
   "id": "c7e651d7",
   "metadata": {},
   "outputs": [],
   "source": [
    "from tkinter import * # tkinter is a standard GUI library\n",
    "import tkinter.messagebox # messagebox widget to display messages \n",
    "import time # for setting reminder "
   ]
  },
  {
   "cell_type": "code",
   "execution_count": null,
   "id": "33e232d4",
   "metadata": {},
   "outputs": [],
   "source": [
    "window=Tk() # creates a main application window \n",
    "window.title(\"To-Do List App\") # title to be displayed at the top"
   ]
  },
  {
   "cell_type": "code",
   "execution_count": null,
   "id": "078d3606",
   "metadata": {},
   "outputs": [],
   "source": [
    "frame_task=Frame(window) # frame widget to hold the listbox and scrollbar \n",
    "                         # Frame() - container widget within the main window (which is taken as argument)\n",
    "frame_task.pack() # pack() - organises the widget before placing it in the main window"
   ]
  },
  {
   "cell_type": "code",
   "execution_count": null,
   "id": "72b030d6",
   "metadata": {},
   "outputs": [],
   "source": [
    "listbox_task=Listbox(frame_task, bg=\"black\", fg=\"white\", height=15, width=50,font=\"Helvetica\")\n",
    "# Listbox() - stores all the tasks that we list \n",
    "listbox_task.pack(side=tkinter.LEFT)"
   ]
  },
  {
   "cell_type": "code",
   "execution_count": null,
   "id": "cf3c5963",
   "metadata": {},
   "outputs": [],
   "source": [
    "scrollbar_task=Scrollbar(frame_task)\n",
    "scrollbar_task.pack(side=tkinter.RIGHT, fill=tkinter.Y)"
   ]
  },
  {
   "cell_type": "code",
   "execution_count": 6,
   "id": "b0c9cda4",
   "metadata": {},
   "outputs": [],
   "source": [
    "listbox_task.config(yscrollcommand=scrollbar_task.set) # setting scrollbar to listbox_task widget\n",
    "scrollbar_task.config(command=listbox_task.yview) # configuring it on vertical axis"
   ]
  },
  {
   "cell_type": "code",
   "execution_count": null,
   "id": "9f576ca0",
   "metadata": {},
   "outputs": [],
   "source": [
    "def entertask():\n",
    "    input_text=\"\"\n",
    "    def add():\n",
    "        input_text=entry_task.get(1.0, \"end-lc\")\n",
    "        if input_text==\"\":\n",
    "            tkinter.messagebox.showwarning(title=\"Warning!\", message=\"Please Enter some Text\")\n",
    "        else:\n",
    "            reminder_button(window,text=\"Set Reminder\", width=25)\n",
    "            listbox_task.insert(END, input_text)\n",
    "            root1.destroy()\n",
    "            \n",
    "    root1=Tk()\n",
    "    root1.title(\"Add task\")\n",
    "    entry_task=Text(root1, width=40, height=4)\n",
    "    entry_task.pack()\n",
    "    button_temp=Button(root1, text=\"Add task\", command=add)\n",
    "    button_temp.pack()\n",
    "    root1.mainloop()"
   ]
  },
  {
   "cell_type": "code",
   "execution_count": null,
   "id": "e35b342a",
   "metadata": {},
   "outputs": [],
   "source": [
    "def deletetask():\n",
    "    selected=listbox_task.curselection()\n",
    "    listbox_task.delete(selected[0])\n"
   ]
  },
  {
   "cell_type": "code",
   "execution_count": null,
   "id": "6862a4bd",
   "metadata": {},
   "outputs": [],
   "source": [
    "def markcompleted():\n",
    "    marked=listbox.curselection()\n",
    "    temp=marked[0]\n",
    "    temp_marked=listbox_task.get(marked)\n",
    "    temp_marked=temp_marked+\" ✔\"\n",
    "    listbox_task.delete(temp)\n",
    "    listbox_task.insert(temp, temp_marked)"
   ]
  },
  {
   "cell_type": "code",
   "execution_count": 7,
   "id": "31103c32",
   "metadata": {},
   "outputs": [
    {
     "ename": "NameError",
     "evalue": "name 'entertask' is not defined",
     "output_type": "error",
     "traceback": [
      "\u001b[1;31m---------------------------------------------------------------------------\u001b[0m",
      "\u001b[1;31mNameError\u001b[0m                                 Traceback (most recent call last)",
      "Cell \u001b[1;32mIn[7], line 1\u001b[0m\n\u001b[1;32m----> 1\u001b[0m entry_button\u001b[38;5;241m=\u001b[39mButton(window, text\u001b[38;5;241m=\u001b[39m\u001b[38;5;124m\"\u001b[39m\u001b[38;5;124mAdd task\u001b[39m\u001b[38;5;124m\"\u001b[39m, width\u001b[38;5;241m=\u001b[39m\u001b[38;5;241m50\u001b[39m, command\u001b[38;5;241m=\u001b[39m\u001b[43mentertask\u001b[49m)\n\u001b[0;32m      2\u001b[0m entry_button\u001b[38;5;241m.\u001b[39mpack(pady\u001b[38;5;241m=\u001b[39m\u001b[38;5;241m3\u001b[39m)\n",
      "\u001b[1;31mNameError\u001b[0m: name 'entertask' is not defined"
     ]
    }
   ],
   "source": [
    "entry_button=Button(window, text=\"Add task\", width=50, command=entertask)\n",
    "entry_button.pack(pady=3)"
   ]
  },
  {
   "cell_type": "code",
   "execution_count": 8,
   "id": "9c28cc6d",
   "metadata": {},
   "outputs": [
    {
     "ename": "NameError",
     "evalue": "name 'deletetask' is not defined",
     "output_type": "error",
     "traceback": [
      "\u001b[1;31m---------------------------------------------------------------------------\u001b[0m",
      "\u001b[1;31mNameError\u001b[0m                                 Traceback (most recent call last)",
      "Cell \u001b[1;32mIn[8], line 1\u001b[0m\n\u001b[1;32m----> 1\u001b[0m delete_button\u001b[38;5;241m=\u001b[39mButton(window, text\u001b[38;5;241m=\u001b[39m\u001b[38;5;124m\"\u001b[39m\u001b[38;5;124mDelete selected task\u001b[39m\u001b[38;5;124m\"\u001b[39m, width\u001b[38;5;241m=\u001b[39m\u001b[38;5;241m50\u001b[39m, command\u001b[38;5;241m=\u001b[39m\u001b[43mdeletetask\u001b[49m)\n\u001b[0;32m      2\u001b[0m delete_button\u001b[38;5;241m.\u001b[39mpack(pady\u001b[38;5;241m=\u001b[39m\u001b[38;5;241m3\u001b[39m)\n",
      "\u001b[1;31mNameError\u001b[0m: name 'deletetask' is not defined"
     ]
    }
   ],
   "source": [
    "delete_button=Button(window, text=\"Delete selected task\", width=50, command=deletetask)\n",
    "delete_button.pack(pady=3)"
   ]
  },
  {
   "cell_type": "code",
   "execution_count": 9,
   "id": "5ad69b13",
   "metadata": {},
   "outputs": [
    {
     "ename": "NameError",
     "evalue": "name 'markcompleted' is not defined",
     "output_type": "error",
     "traceback": [
      "\u001b[1;31m---------------------------------------------------------------------------\u001b[0m",
      "\u001b[1;31mNameError\u001b[0m                                 Traceback (most recent call last)",
      "Cell \u001b[1;32mIn[9], line 1\u001b[0m\n\u001b[1;32m----> 1\u001b[0m mark_button\u001b[38;5;241m=\u001b[39mButton(window, text\u001b[38;5;241m=\u001b[39m\u001b[38;5;124m\"\u001b[39m\u001b[38;5;124mMark as completed\u001b[39m\u001b[38;5;124m\"\u001b[39m, width\u001b[38;5;241m=\u001b[39m\u001b[38;5;241m50\u001b[39m, command\u001b[38;5;241m=\u001b[39m\u001b[43mmarkcompleted\u001b[49m)\n\u001b[0;32m      2\u001b[0m mark_button\u001b[38;5;241m.\u001b[39mpack(pady\u001b[38;5;241m=\u001b[39m\u001b[38;5;241m3\u001b[39m)\n",
      "\u001b[1;31mNameError\u001b[0m: name 'markcompleted' is not defined"
     ]
    }
   ],
   "source": [
    "mark_button=Button(window, text=\"Mark as completed\", width=50, command=markcompleted)\n",
    "mark_button.pack(pady=3)"
   ]
  },
  {
   "cell_type": "code",
   "execution_count": null,
   "id": "3fa6caac",
   "metadata": {},
   "outputs": [],
   "source": [
    "window.mainloop()"
   ]
  },
  {
   "cell_type": "code",
   "execution_count": null,
   "id": "c571b72a",
   "metadata": {},
   "outputs": [],
   "source": []
  },
  {
   "cell_type": "code",
   "execution_count": null,
   "id": "4937dd28",
   "metadata": {},
   "outputs": [],
   "source": []
  },
  {
   "cell_type": "code",
   "execution_count": null,
   "id": "6fdd8cbf",
   "metadata": {},
   "outputs": [],
   "source": []
  },
  {
   "cell_type": "code",
   "execution_count": null,
   "id": "b9c54d04",
   "metadata": {},
   "outputs": [],
   "source": []
  }
 ],
 "metadata": {
  "kernelspec": {
   "display_name": "Python 3 (ipykernel)",
   "language": "python",
   "name": "python3"
  },
  "language_info": {
   "codemirror_mode": {
    "name": "ipython",
    "version": 3
   },
   "file_extension": ".py",
   "mimetype": "text/x-python",
   "name": "python",
   "nbconvert_exporter": "python",
   "pygments_lexer": "ipython3",
   "version": "3.10.9"
  }
 },
 "nbformat": 4,
 "nbformat_minor": 5
}
