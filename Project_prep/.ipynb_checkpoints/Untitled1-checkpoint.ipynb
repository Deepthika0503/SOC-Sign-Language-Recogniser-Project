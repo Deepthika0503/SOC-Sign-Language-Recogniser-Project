{
 "cells": [
  {
   "cell_type": "code",
   "execution_count": 2,
   "id": "7e205769",
   "metadata": {},
   "outputs": [],
   "source": [
    "import numpy as np\n",
    "import matplotlib.pyplot as plt\n",
    "from tensorflow.keras.preprocessing.image import load_img, img_to_array\n",
    "import tensorflow as tf\n",
    "import os\n",
    "from tensorflow.python.framework import ops"
   ]
  },
  {
   "cell_type": "code",
   "execution_count": 3,
   "id": "8543c495",
   "metadata": {},
   "outputs": [],
   "source": [
    "# getting the image data \n",
    "data_dir = '/image_data'\n",
    "batch_size = 32"
   ]
  },
  {
   "cell_type": "code",
   "execution_count": null,
   "id": "2bf2b751",
   "metadata": {},
   "outputs": [],
   "source": []
  },
  {
   "cell_type": "code",
   "execution_count": 20,
   "id": "a6fa98bd",
   "metadata": {
    "scrolled": true
   },
   "outputs": [
    {
     "name": "stdout",
     "output_type": "stream",
     "text": [
      "Sample images from dataset:\n"
     ]
    },
    {
     "ename": "NameError",
     "evalue": "name 'X' is not defined",
     "output_type": "error",
     "traceback": [
      "\u001b[1;31m---------------------------------------------------------------------------\u001b[0m",
      "\u001b[1;31mNameError\u001b[0m                                 Traceback (most recent call last)",
      "Cell \u001b[1;32mIn[20], line 6\u001b[0m\n\u001b[0;32m      4\u001b[0m \u001b[38;5;28;01mfor\u001b[39;00m i \u001b[38;5;129;01min\u001b[39;00m \u001b[38;5;28mrange\u001b[39m(\u001b[38;5;241m1\u001b[39m, n\u001b[38;5;241m+\u001b[39m\u001b[38;5;241m1\u001b[39m):\n\u001b[0;32m      5\u001b[0m     ax \u001b[38;5;241m=\u001b[39m plt\u001b[38;5;241m.\u001b[39msubplot(\u001b[38;5;241m1\u001b[39m, n, i)\n\u001b[1;32m----> 6\u001b[0m     plt\u001b[38;5;241m.\u001b[39mimshow(\u001b[43mX\u001b[49m[i])\n\u001b[0;32m      7\u001b[0m     plt\u001b[38;5;241m.\u001b[39mgray\n\u001b[0;32m      8\u001b[0m     plt\u001b[38;5;241m.\u001b[39maxis(\u001b[38;5;124m'\u001b[39m\u001b[38;5;124moff\u001b[39m\u001b[38;5;124m'\u001b[39m)\n",
      "\u001b[1;31mNameError\u001b[0m: name 'X' is not defined"
     ]
    },
    {
     "data": {
      "image/png": "[encoded data removed]",
      "text/plain": [
       "<Figure size 1500x1500 with 1 Axes>"
      ]
     },
     "metadata": {},
     "output_type": "display_data"
    }
   ],
   "source": []
  },
  {
   "cell_type": "code",
   "execution_count": null,
   "id": "34d46a09",
   "metadata": {},
   "outputs": [],
   "source": [
    "from sklearn.model_selection import train_test_split\n",
    "X_train, X_test, Y_train, Y_test = train_test_split(X, Y, test_size=0.33, random_state=42)"
   ]
  },
  {
   "cell_type": "code",
   "execution_count": null,
   "id": "fdea3389",
   "metadata": {},
   "outputs": [],
   "source": [
    "X_train_flat = X_train.reshape(X_train.shape[0],X_train.shape[1]*X_train.shape[2]).T\n",
    "X_test_flat = X_test.reshape(X_test.shape[0],X_train.shape[1]*X_train.shape[2]).T\n",
    "Y_train = Y_train.T\n",
    "Y_test = Y_test.T"
   ]
  },
  {
   "cell_type": "code",
   "execution_count": 21,
   "id": "cd36c155",
   "metadata": {},
   "outputs": [],
   "source": [
    "def create_placeholders(n_x, n_y):\n",
    "    X = tf.placeholder(tf.float32, [n_x, None], name=\"X\")\n",
    "    Y = tf.placeholder(tf.float32, [n_y, None], name=\"Y\")\n",
    "    \n",
    "    return X, Y"
   ]
  },
  {
   "cell_type": "code",
   "execution_count": 22,
   "id": "01beca47",
   "metadata": {},
   "outputs": [],
   "source": [
    "def initialize_params():\n",
    "    W1 = tf.get_variable(\"W1\",[25, 4096], initializer = tf.contrib.layers.xavier_intializer())\n",
    "    b1 = tf.get_variable(\"b1\",[25, 1], initializer = tf.zeros_initializer())\n",
    "    W2 = tf.get_variable(\"W2\",[15, 25], initializer = tf.contrib.layers.xavier_intializer())\n",
    "    b2 = tf.get_variable(\"b2\",[15, 1], initializer = tf.zeros_initializer())\n",
    "    W3 = tf.get_variable(\"W3\",[10, 15], initializer = tf.contrib.layers.xavier_intializer())\n",
    "    b3 = tf.get_variable(\"b3\",[10, 1], initializer = tf.zeros_initializer())\n",
    "    \n",
    "    parameters ={\n",
    "        \"W1\":W1,\n",
    "        \"W2\":W2,\n",
    "        \"W3\":W3,\n",
    "        \"b1\":b1,\n",
    "        \"b2\":b2,\n",
    "        \"b3\":b3\n",
    "    }\n",
    "    \n",
    "    return parameters"
   ]
  },
  {
   "cell_type": "code",
   "execution_count": 23,
   "id": "861c6777",
   "metadata": {},
   "outputs": [],
   "source": [
    "def forward_prop(X,parameters):\n",
    "    \n",
    "    W1 = parameters['W1']\n",
    "    b1 = parameters['b1']\n",
    "    W2 = parameters['W2']\n",
    "    b2 = parameters['b2']\n",
    "    W3 = parameters['W3']\n",
    "    b3 = parameters['b3']\n",
    "    \n",
    "    Z1 = tf.add(tf.matmul(W1,X),b1)\n",
    "    A1 = tf.nn.tanh(Z1)\n",
    "    Z2 = tf.add(tf.matmul(W2,A1),b2)\n",
    "    A2 = tf.nn.tanh(Z2)\n",
    "    Z3 = tf.add(tf.matmul(W3,A2),b3)\n",
    "    \n",
    "    return Z3"
   ]
  },
  {
   "cell_type": "code",
   "execution_count": 24,
   "id": "1728a34b",
   "metadata": {},
   "outputs": [],
   "source": [
    "def cost_calc(Z3,Y,parameters):\n",
    "    \n",
    "    W1 = parameters['W1']\n",
    "    W2 = parameters['W2']\n",
    "    W3 = parameters['W3']\n",
    "    \n",
    "    logits = tf.transpose(Z3)\n",
    "    labels = tf.transpose(Y)\n",
    "    \n",
    "    cost = tf.reduce_mean(tf.nn.softmax_cross_entropy_with_logits(logits = logits,labels = labels) + 0.001*(tf.nn.l2_loss(W1) + tf.nn.l2_loss(W2) + tf.nn.l2_loss(W3)))\n",
    "    \n",
    "    return cost"
   ]
  },
  {
   "cell_type": "code",
   "execution_count": 26,
   "id": "abd454d2",
   "metadata": {},
   "outputs": [],
   "source": [
    "def neural_net(X_train, Y_train, X_test, Y_test, learning_rate = 0.0001):\n",
    "\n",
    "    ops.reset_default_graph()          \n",
    "    (n_x, m) = X_train_flat.shape                     \n",
    "    n_y = Y_train.shape[0]                            \n",
    "    costs = []                                          \n",
    "   \n",
    "    X, Y = create_placeholders(n_x, n_y)\n",
    "\n",
    "    parameters = initialize_params()\n",
    "\n",
    "    Z3 = forward_prop(X, parameters)\n",
    "\n",
    "    cost = cost_calc(Z3, Y,parameters)\n",
    "    \n",
    "    optimizer = tf.train.AdamOptimizer(learning_rate = learning_rate).minimize(cost)\n",
    "    \n",
    "    init = tf.global_variables_initializer()\n",
    "\n",
    "    with tf.Session() as sess:\n",
    "\n",
    "        sess.run(init)\n",
    "\n",
    "        for i in range (1,2000):   \n",
    "            a,b = sess.run([optimizer,cost],feed_dict={X: X_train, Y: Y_train})\n",
    "            costs.append(b)\n",
    "            \n",
    "        parameters = sess.run(parameters)\n",
    "        print (\"Parameters have been optimized.\")\n",
    "\n",
    "        correct_prediction = tf.equal(tf.argmax(Z3), tf.argmax(Y))\n",
    "\n",
    "        accuracy = tf.reduce_mean(tf.cast(correct_prediction, \"float\"))\n",
    "        print (\"Train Accuracy:\", accuracy.eval({X: X_train, Y: Y_train}))\n",
    "        print (\"Test Accuracy:\", accuracy.eval({X: X_test, Y: Y_test}))\n",
    "        \n",
    "        plt.plot(np.squeeze(costs))\n",
    "        plt.ylabel('cost')\n",
    "        plt.xlabel('iterations')\n",
    "        plt.title(\"Learning rate =\" + str(learning_rate))\n",
    "        plt.show()\n",
    "\n",
    "    return parameters"
   ]
  },
  {
   "cell_type": "code",
   "execution_count": 27,
   "id": "947b20f1",
   "metadata": {},
   "outputs": [
    {
     "ename": "NameError",
     "evalue": "name 'X_train_flat' is not defined",
     "output_type": "error",
     "traceback": [
      "\u001b[1;31m---------------------------------------------------------------------------\u001b[0m",
      "\u001b[1;31mNameError\u001b[0m                                 Traceback (most recent call last)",
      "Cell \u001b[1;32mIn[27], line 1\u001b[0m\n\u001b[1;32m----> 1\u001b[0m parameters \u001b[38;5;241m=\u001b[39m neural_net(\u001b[43mX_train_flat\u001b[49m, Y_train, X_test_flat, Y_test, learning_rate \u001b[38;5;241m=\u001b[39m \u001b[38;5;241m0.0001\u001b[39m,)\n",
      "\u001b[1;31mNameError\u001b[0m: name 'X_train_flat' is not defined"
     ]
    }
   ],
   "source": [
    "parameters = neural_net(X_train_flat, Y_train, X_test_flat, Y_test, learning_rate = 0.0001,)"
   ]
  },
  {
   "cell_type": "code",
   "execution_count": 28,
   "id": "149c0ffd",
   "metadata": {},
   "outputs": [
    {
     "ename": "NameError",
     "evalue": "name 'X_test' is not defined",
     "output_type": "error",
     "traceback": [
      "\u001b[1;31m---------------------------------------------------------------------------\u001b[0m",
      "\u001b[1;31mNameError\u001b[0m                                 Traceback (most recent call last)",
      "Cell \u001b[1;32mIn[28], line 1\u001b[0m\n\u001b[1;32m----> 1\u001b[0m X_single_test \u001b[38;5;241m=\u001b[39m \u001b[43mX_test\u001b[49m[\u001b[38;5;241m7\u001b[39m]\n\u001b[0;32m      2\u001b[0m Y_single_test \u001b[38;5;241m=\u001b[39m Y_test[\u001b[38;5;241m7\u001b[39m]\n\u001b[0;32m      3\u001b[0m plt\u001b[38;5;241m.\u001b[39mimshow(X_single_test)\n",
      "\u001b[1;31mNameError\u001b[0m: name 'X_test' is not defined"
     ]
    }
   ],
   "source": [
    "X_single_test = X_test[7]\n",
    "Y_single_test = Y_test[7]\n",
    "plt.imshow(X_single_test)"
   ]
  },
  {
   "cell_type": "code",
   "execution_count": 31,
   "id": "95134cb5",
   "metadata": {},
   "outputs": [
    {
     "ename": "NameError",
     "evalue": "name 'X_test_flat' is not defined",
     "output_type": "error",
     "traceback": [
      "\u001b[1;31m---------------------------------------------------------------------------\u001b[0m",
      "\u001b[1;31mNameError\u001b[0m                                 Traceback (most recent call last)",
      "Cell \u001b[1;32mIn[31], line 1\u001b[0m\n\u001b[1;32m----> 1\u001b[0m X_single_test_flat \u001b[38;5;241m=\u001b[39m \u001b[43mX_test_flat\u001b[49m[:,\u001b[38;5;241m7\u001b[39m:\u001b[38;5;241m8\u001b[39m]\n\u001b[0;32m      3\u001b[0m Z3 \u001b[38;5;241m=\u001b[39m forward_prop(X_single_test_flat, parameters)\n\u001b[0;32m      5\u001b[0m init \u001b[38;5;241m=\u001b[39m tf\u001b[38;5;241m.\u001b[39mglobal_variables_initializer()\n",
      "\u001b[1;31mNameError\u001b[0m: name 'X_test_flat' is not defined"
     ]
    }
   ],
   "source": [
    "X_single_test_flat = X_test_flat[:,7:8]\n",
    "\n",
    "Z3 = forward_prop(X_single_test_flat, parameters)\n",
    "\n",
    "init = tf.global_variables_initializer()\n",
    "\n",
    "with tf.Session() as sess:\n",
    "    \n",
    "    sess.run(init)\n",
    "    \n",
    "    a = sess.run(tf.sigmoid(Z3)) \n",
    "    \n",
    "z = 1*(a == np.max(a))\n",
    "\n",
    "z.T\n",
    "\n",
    "if int(z[2]) == 1:\n",
    "    print(\"The image represents a 7 in sign-language\")"
   ]
  },
  {
   "cell_type": "code",
   "execution_count": null,
   "id": "637d04bd",
   "metadata": {},
   "outputs": [],
   "source": []
  }
 ],
 "metadata": {
  "kernelspec": {
   "display_name": "Python 3 (ipykernel)",
   "language": "python",
   "name": "python3"
  },
  "language_info": {
   "codemirror_mode": {
    "name": "ipython",
    "version": 3
   },
   "file_extension": ".py",
   "mimetype": "text/x-python",
   "name": "python",
   "nbconvert_exporter": "python",
   "pygments_lexer": "ipython3",
   "version": "3.10.11"
  }
 },
 "nbformat": 4,
 "nbformat_minor": 5
}
